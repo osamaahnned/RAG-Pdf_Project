{
 "cells": [
  {
   "cell_type": "code",
   "execution_count": 1,
   "id": "3f73178c",
   "metadata": {},
   "outputs": [],
   "source": [
    "from langchain_community.document_loaders import PyMuPDFLoader\n",
    "\n",
    "file_path = \"technology.pdf\"\n",
    "loader = PyMuPDFLoader(file_path)"
   ]
  },
  {
   "cell_type": "code",
   "execution_count": 2,
   "id": "3c8c8327",
   "metadata": {},
   "outputs": [
    {
     "data": {
      "text/plain": [
       "[Document(metadata={'producer': 'Microsoft® Word 2016', 'creator': 'Microsoft® Word 2016', 'creationdate': '2025-07-12T01:04:21+03:00', 'source': 'technology.pdf', 'file_path': 'technology.pdf', 'total_pages': 4, 'format': 'PDF 1.7', 'title': '', 'author': 'Osama Ahmed', 'subject': '', 'keywords': '', 'moddate': '2025-07-12T01:04:21+03:00', 'trapped': '', 'modDate': \"D:20250712010421+03'00'\", 'creationDate': \"D:20250712010421+03'00'\", 'page': 0}, page_content='NovaTech Electronics Product Catalog — July 2025 Edition \\nWelcome to the official product catalog of NovaTech Electronics. We specialize in high-\\nperformance consumer tech, offering the best in smartphones, laptops, tablets, smartwatches, \\nheadphones, and accessories. Below you\\'ll find descriptions, specs, prices, and availability for \\nour latest lineup. \\n \\nSMARTPHONES \\n1. Nova S9 Max \\nModel: NS9-2025-A1 \\nA flagship smartphone with a stunning 6.7\" AMOLED display, Snapdragon 8 Gen 2 \\nprocessor, 12GB RAM, and a 256GB storage drive. Comes with a 108MP AI camera \\nsystem and a 5000mAh battery supporting 65W fast charging. Perfect for mobile \\nphotography and performance users. \\nPrice: $899 — In Stock \\n2. Nova Lite X5 \\nModel: NLX5-2025-B3 \\nThis is our budget-friendly option, with a 6.2” LCD, Helio G99 chipset, 6GB RAM, and \\n128GB storage. Rear 48MP dual camera, great for casual users. \\nPrice: $299 — In Stock \\n3. Nova Z Ultra \\nModel: NZU-2025-C9 \\nBuilt for gaming and media, with a 144Hz 6.9\" OLED screen, Dimensity 9200+ chip, 16GB \\nRAM, 512GB storage, and vapor chamber cooling. Comes with stereo speakers and \\nadvanced game mode. \\nPrice: $1099 — Pre-order \\n4. Nova Core Mini \\nModel: NCM-2025-D2 \\nA compact 5.8\" phone with flagship specs — OLED display, Snapdragon 7+ Gen 2, 8GB \\nRAM, 128GB storage. Pocket-sized power for professionals on the go. \\nPrice: $579 — In Stock \\n \\nLAPTOPS \\n5. NovaBook Pro 15 \\nModel: NBP15-2025-E5'),\n",
       " Document(metadata={'producer': 'Microsoft® Word 2016', 'creator': 'Microsoft® Word 2016', 'creationdate': '2025-07-12T01:04:21+03:00', 'source': 'technology.pdf', 'file_path': 'technology.pdf', 'total_pages': 4, 'format': 'PDF 1.7', 'title': '', 'author': 'Osama Ahmed', 'subject': '', 'keywords': '', 'moddate': '2025-07-12T01:04:21+03:00', 'trapped': '', 'modDate': \"D:20250712010421+03'00'\", 'creationDate': \"D:20250712010421+03'00'\", 'page': 1}, page_content='A creative workstation featuring 15.6\" 4K OLED display, Intel Core i9 13th Gen, 32GB \\nRAM, 1TB NVMe SSD, and NVIDIA RTX 4070. Includes color-calibrated display and \\naluminum chassis. \\nPrice: $2199 — In Stock \\n6. NovaBook Air 13 \\nModel: NBA13-2025-F1 \\nLightweight ultrabook weighing under 1kg. 13.3\" Retina screen, Intel i5 CPU, 16GB RAM, \\nand 512GB SSD. Ideal for students and mobile professionals. \\nPrice: $999 — In Stock \\n7. NovaPad 2-in-1 Touch \\nModel: NP2-2025-G4 \\nA convertible device with detachable keyboard and stylus support. 14” Full HD display, \\nRyzen 7 7840U, 16GB RAM, 1TB SSD. \\nPrice: $1199 — Pre-order \\n \\nTABLETS \\n8. NovaTab X12 \\nModel: NTX12-2025-H7 \\nA 12.4\" Android-based tablet with Snapdragon 8cx processor, 8GB RAM, 256GB storage, \\nand S-Pen support. Ideal for design, sketching, and office work. \\nPrice: $649 — Out of Stock \\n9. NovaTab Mini 8 \\nModel: NTM8-2025-I2 \\nSmall form-factor 8.3” tablet, MediaTek G95, 4GB RAM, 64GB storage. Family-friendly \\ntablet with Kids Mode and parental controls. \\nPrice: $199 — In Stock \\n10. NovaTab EDU \\nModel: NTEDU-2025-J8 \\nEducation-focused tablet with a rugged design, shockproof body, and pre-installed \\nlearning apps. 10.1” LCD, 6GB RAM, 128GB storage. \\nPrice: $249 — In Stock \\n \\nSMARTWATCHES'),\n",
       " Document(metadata={'producer': 'Microsoft® Word 2016', 'creator': 'Microsoft® Word 2016', 'creationdate': '2025-07-12T01:04:21+03:00', 'source': 'technology.pdf', 'file_path': 'technology.pdf', 'total_pages': 4, 'format': 'PDF 1.7', 'title': '', 'author': 'Osama Ahmed', 'subject': '', 'keywords': '', 'moddate': '2025-07-12T01:04:21+03:00', 'trapped': '', 'modDate': \"D:20250712010421+03'00'\", 'creationDate': \"D:20250712010421+03'00'\", 'page': 2}, page_content='11. Nova Watch Pro \\nModel: NWP-2025-K5 \\nSmart fitness watch with AMOLED screen, ECG, SpO2, stress monitor, GPS, and 5ATM \\nwater resistance. Battery lasts 12 days on standard mode. \\nPrice: $349 — In Stock \\n12. NovaFit Band \\nModel: NFB-2025-L1 \\nSlim activity band with step tracking, HR monitor, sleep analytics, and notification \\nmirroring. \\nPrice: $69 — In Stock \\n13. Nova Watch Ultra Titanium \\nModel: NWU-2025-M3 \\nPremium rugged smartwatch with titanium case, offline maps, satellite SOS support, and \\ndual-band GPS. Designed for explorers and climbers. \\nPrice: $699 — Pre-order \\n \\nHEADPHONES \\n14. NovaBuds X \\nModel: NBX-2025-N9 \\nTrue wireless earbuds with ANC, 9-hour playback, wireless charging case, and IPX5 water \\nresistance. \\nPrice: $129 — In Stock \\n15. NovaSound Studio \\nModel: NSS-2025-O7 \\nOver-ear wired headphones for audiophiles. 50mm drivers, 32Ω impedance, Hi-Res \\ncertification, and detachable cable. \\nPrice: $199 — In Stock \\n16. NovaFlex ANC \\nModel: NFA-2025-P2 \\nWireless over-ear headphones with Active Noise Cancellation, 40-hour battery life, \\nfoldable design, and fast charging. \\nPrice: $169 — In Stock \\n \\nACCESSORIES'),\n",
       " Document(metadata={'producer': 'Microsoft® Word 2016', 'creator': 'Microsoft® Word 2016', 'creationdate': '2025-07-12T01:04:21+03:00', 'source': 'technology.pdf', 'file_path': 'technology.pdf', 'total_pages': 4, 'format': 'PDF 1.7', 'title': '', 'author': 'Osama Ahmed', 'subject': '', 'keywords': '', 'moddate': '2025-07-12T01:04:21+03:00', 'trapped': '', 'modDate': \"D:20250712010421+03'00'\", 'creationDate': \"D:20250712010421+03'00'\", 'page': 3}, page_content='17. Nova ChargePro 65W \\nModel: NCP-2025-Q1 \\nUniversal GaN USB-C fast charger for phones, tablets, and laptops. Supports Power \\nDelivery 3.0 and PPS. \\nPrice: $49 — In Stock \\n18. NovaHub UltraDock \\nModel: NHD-2025-R3 \\nAll-in-one docking station with 2x HDMI, 4x USB-A, 2x USB-C, Ethernet, SD card reader, \\nand 100W passthrough charging. \\nPrice: $179 — In Stock \\n19. NovaGlide Stylus \\nModel: NGS-2025-S8 \\nPressure-sensitive stylus compatible with NovaTab and Android tablets. Palm rejection, \\ntilt support, and magnetic snap. \\nPrice: $39 — In Stock \\n20. NovaCase Smart Folio \\nModel: NSC-2025-T6 \\nTri-fold case with auto wake/sleep, pen holder, and magnetic clasp for NovaTab X12. \\nPrice: $25 — In Stock \\n \\nThis catalog continues with hundreds more variants, such as: \\n• \\nNova S9 Max Pro 512GB \\n• \\nNovaBuds X2 with voice assistant \\n• \\nNovaBook Creator 17 RTX 4080 edition \\n• \\nNova Watch Sport 2025 \\n• \\nNovaTab for Business LTE')]"
      ]
     },
     "execution_count": 2,
     "metadata": {},
     "output_type": "execute_result"
    }
   ],
   "source": [
    "docs = loader.load()\n",
    "docs"
   ]
  },
  {
   "cell_type": "code",
   "execution_count": 3,
   "id": "a1c6fe4a",
   "metadata": {},
   "outputs": [],
   "source": [
    "raw_texts = [doc.page_content for doc in docs]\n"
   ]
  },
  {
   "cell_type": "code",
   "execution_count": 6,
   "id": "d4b78bfb",
   "metadata": {},
   "outputs": [
    {
     "name": "stdout",
     "output_type": "stream",
     "text": [
      "NovaTech Electronics Product Catalog — July 2025 Edition \n",
      "Welcome to the official product catalog of NovaTech Electronics. We specialize in high-\n",
      "performance consumer tech, offering the best in smartphones, laptops, tablets, smartwatches, \n",
      "headphones, and accessories. Below you'll find descriptions, specs, prices, and availability for \n",
      "our latest lineup. \n",
      " \n",
      "SMARTPHONES \n",
      "1. Nova S9 Max \n",
      "Model: NS9-2025-A1 \n",
      "A flagship smartphone with a stunning 6.7\" AMOLED display, Snapdragon 8 Gen 2\n"
     ]
    }
   ],
   "source": [
    "from langchain_text_splitters import RecursiveCharacterTextSplitter\n",
    "\n",
    "# Load example document\n",
    "# with open(\"state_of_the_union.txt\") as f:\n",
    "    #state_of_the_union = f.read()\n",
    "\n",
    "text_splitter = RecursiveCharacterTextSplitter(\n",
    "    # Set a really small chunk size, just to show.\n",
    "    add_start_index=True,\n",
    "    chunk_size=500,\n",
    "    chunk_overlap=100,\n",
    "    length_function=len,\n",
    ")\n",
    "texts = text_splitter.create_documents(raw_texts)\n",
    "print(texts[0].page_content)\n"
   ]
  },
  {
   "cell_type": "code",
   "execution_count": null,
   "id": "e2e392b9",
   "metadata": {},
   "outputs": [],
   "source": [
    "from langchain_google_genai import GoogleGenerativeAIEmbeddings\n",
    "\n",
    "embeddings = GoogleGenerativeAIEmbeddings(model=\"models/embedding-001\", google_api_key=\"\")"
   ]
  },
  {
   "cell_type": "code",
   "execution_count": 8,
   "id": "20edaf2b",
   "metadata": {},
   "outputs": [],
   "source": [
    "from langchain_chroma import Chroma\n",
    "\n",
    "db = Chroma.from_documents(\n",
    "    documents=texts,\n",
    "    embedding=embeddings,\n",
    "    persist_directory=\"data/chroma_langchain_db\",\n",
    "    collection_name=\"my_chunks\"\n",
    ")"
   ]
  },
  {
   "cell_type": "code",
   "execution_count": null,
   "id": "69884054",
   "metadata": {},
   "outputs": [],
   "source": [
    "from langchain.chains import create_retrieval_chain\n",
    "from langchain.chains.combine_documents import create_stuff_documents_chain\n",
    "from langchain_core.prompts import ChatPromptTemplate\n",
    "from langchain_openai import ChatOpenAI\n",
    "from langchain_google_genai import ChatGoogleGenerativeAI\n",
    "\n",
    "retriever = db.as_retriever()\n",
    "llm = ChatGoogleGenerativeAI(\n",
    "    model=\"models/gemini-2.5-flash\",\n",
    "    google_api_key=\"\"\n",
    ")\n",
    "system_prompt = (\n",
    "    \"Use the given context to answer the question. \"\n",
    "    \"If you don't know the answer, say you don't know. \"\n",
    "    \"Use three sentence maximum and keep the answer concise. \"\n",
    "    \"Context: {context}\"\n",
    ")\n",
    "prompt = ChatPromptTemplate.from_messages(\n",
    "    [(\"system\", system_prompt), (\"human\", \"{input}\")],\n",
    ")\n",
    "\n",
    "question_answer_chain = create_stuff_documents_chain(llm, prompt)\n",
    "chain = create_retrieval_chain(retriever, question_answer_chain)\n"
   ]
  },
  {
   "cell_type": "code",
   "execution_count": null,
   "id": "89b34c3f",
   "metadata": {},
   "outputs": [],
   "source": [
    "result = chain.invoke({\"input\": input(\"Enter Your Question: \")})"
   ]
  },
  {
   "cell_type": "code",
   "execution_count": 14,
   "id": "100c399f",
   "metadata": {},
   "outputs": [
    {
     "name": "stdout",
     "output_type": "stream",
     "text": [
      "No, I do not have any information about \"gebally\" in the provided context. The given text only describes various Nova products like the NovaBook Creator, Nova Watch Sport, NovaTab for Business, and details two smartphone models.\n"
     ]
    }
   ],
   "source": [
    "print(result[\"answer\"])"
   ]
  }
 ],
 "metadata": {
  "kernelspec": {
   "display_name": "env",
   "language": "python",
   "name": "python3"
  },
  "language_info": {
   "codemirror_mode": {
    "name": "ipython",
    "version": 3
   },
   "file_extension": ".py",
   "mimetype": "text/x-python",
   "name": "python",
   "nbconvert_exporter": "python",
   "pygments_lexer": "ipython3",
   "version": "3.11.9"
  }
 },
 "nbformat": 4,
 "nbformat_minor": 5
}
